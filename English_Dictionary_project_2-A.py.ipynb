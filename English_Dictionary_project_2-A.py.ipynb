{
 "cells": [
  {
   "cell_type": "markdown",
   "id": "a1f3e73d",
   "metadata": {},
   "source": [
    "# English Dictionary Application"
   ]
  },
  {
   "cell_type": "code",
   "execution_count": 51,
   "id": "6fc697ab",
   "metadata": {},
   "outputs": [
    {
     "name": "stdout",
     "output_type": "stream",
     "text": [
      "Welcome to the Dictionary App\n",
      "Please select your choice\n",
      "Press 1 To Add a word\n",
      "Press 2 To Find the meaning\n",
      "Press 3 To Update the word\n",
      "Press 4 To show all the collection of dictionary\n",
      "Press 5 To Exit\n",
      "Enter your choice : 1\n",
      "Enter a word : great\n",
      "Enter its meaning : good job\n",
      "Enter a word : dhruv\n",
      "Enter its meaning : polar star rising at 5am\n",
      "Enter a word : beautifull\n",
      "Enter its meaning : amazing\n",
      "Enter a word : happy\n",
      "Enter its meaning : one who is enjoying his or her life\n",
      "Enter a word : sad\n",
      "Enter its meaning : one who is not enjoying his or her life\n",
      "{'great': 'good job', 'dhruv': 'polar star rising at 5am', 'beautifull': 'amazing', 'happy': 'one who is enjoying his or her life', 'sad': 'one who is not enjoying his or her life'}\n",
      "Enter your choice : 2\n",
      "Enter the word to find : dhruv\n",
      "polar star rising at 5am\n",
      "Enter your choice : happy\n",
      "Invalid input !! Please enter the number between 1-4 \n",
      "Enter your choice : 2\n",
      "Enter the word to find : happy\n",
      "one who is enjoying his or her life\n",
      "Enter your choice : 3\n",
      "Enter a word you want to update : great\n",
      "Enter the new meaning : having a good job\n",
      "{'great': 'having a good job', 'dhruv': 'polar star rising at 5am', 'beautifull': 'amazing', 'happy': 'one who is enjoying his or her life', 'sad': 'one who is not enjoying his or her life'}\n",
      "Enter your choice : 4\n",
      "{'great': 'having a good job', 'dhruv': 'polar star rising at 5am', 'beautifull': 'amazing', 'happy': 'one who is enjoying his or her life', 'sad': 'one who is not enjoying his or her life'}\n",
      "beautifull : amazing\n",
      "dhruv : polar star rising at 5am\n",
      "great : having a good job\n",
      "happy : one who is enjoying his or her life\n",
      "sad : one who is not enjoying his or her life\n",
      "Enter your choice : 5\n",
      "You are exit now\n"
     ]
    }
   ],
   "source": [
    "import json\n",
    "\n",
    "def dict_collection():   # function for deserialisation i.e tranfering data from json to python format\n",
    "    d = open('dict_data','r')  # to open and read the data from json file\n",
    "    dict = json.load(d)     # to load the data from json to python programme\n",
    "    print(dict)\n",
    "    for i in sorted(dict):       # to arrange data in list form\n",
    "        print(i,':',dict[i])\n",
    "    d.close()\n",
    "\n",
    "print('Welcome to the Dictionary App')    # main programe\n",
    "print('Please select your choice')\n",
    "print('Press 1 To Add a word')\n",
    "print('Press 2 To Find the meaning')\n",
    "print('Press 3 To Update the word')\n",
    "print('Press 4 To show all the collection of dictionary')\n",
    "print('Press 5 To Exit')\n",
    "\n",
    "dict = {}                                  # Empty dictionary\n",
    "\n",
    "i=5          # here i am using while loop because i want to break a exit at 5th choice and infinite can easily break\n",
    "while i>0:    \n",
    "    if choice == '1' :\n",
    "        for i in range(1,6):                   # for loop for 5 user input for dictionary\n",
    "            word = input(\"Enter a word : \")\n",
    "            meaning = input(\"Enter its meaning : \")\n",
    "            dict[word] = meaning \n",
    "            \n",
    "            d = open('dict_data','w')  # function for serialisation i.e tranfering data from python to json format\n",
    "            json.dump(dict,d)\n",
    "            d.close()\n",
    "        \n",
    "        print(dict)\n",
    "        \n",
    "    \n",
    "    elif choice == '2' :\n",
    "        find = input(\"Enter the word to find : \")\n",
    "        print(dict[find])                             # to find word and its meaning\n",
    "        \n",
    "\n",
    "    elif choice == '3':\n",
    "        upd = input(\"Enter a word you want to update : \")\n",
    "        upd_meaning = input(\"Enter the new meaning : \")\n",
    "        dict.update({upd:upd_meaning})                   # to update or add items in dictionary\n",
    "        \n",
    "        d = open('dict_data','w')     # function for serialisation i.e tranfering data from python to json format\n",
    "        json.dump(dict,d)\n",
    "        d.close()\n",
    "        \n",
    "        print(dict)\n",
    "        \n",
    "    elif choice == '4':             # to see the collection of list of words in dictionary\n",
    "        dict_collection()\n",
    "        \n",
    "        \n",
    "    elif choice == '5':            # to exit the while loop\n",
    "        print(\"You are exit now\")\n",
    "        break\n",
    "        \n",
    "    else:\n",
    "        print(\"Invalid input !! Please enter the number between 1-5 \")\n",
    "    \n",
    "\n",
    "    \n",
    "   \n"
   ]
  },
  {
   "cell_type": "code",
   "execution_count": 52,
   "id": "430668ad",
   "metadata": {},
   "outputs": [
    {
     "name": "stdout",
     "output_type": "stream",
     "text": [
      "{'great': 'having a good job', 'dhruv': 'polar star rising at 5am', 'beautifull': 'amazing', 'happy': 'one who is enjoying his or her life', 'sad': 'one who is not enjoying his or her life'}\n"
     ]
    }
   ],
   "source": [
    "print(dict)\n"
   ]
  },
  {
   "cell_type": "markdown",
   "id": "fb35f257",
   "metadata": {},
   "source": [
    "# logic used in project"
   ]
  },
  {
   "cell_type": "code",
   "execution_count": 39,
   "id": "1d9f2577",
   "metadata": {},
   "outputs": [],
   "source": [
    "# whenever user give the input(python format) to programe, then convert the python file into json\n",
    "# format this is called serialisation, so that your python data is converted into json text and stored in json file (plain text)\n",
    "# as a collection of dictionary\n",
    "\n",
    "# whenever input is taken from json file, then convert the json data into python data format that is\n",
    "# deserialisation , so that user can output i.e collection of dictionary"
   ]
  },
  {
   "cell_type": "code",
   "execution_count": null,
   "id": "1234dbd3",
   "metadata": {},
   "outputs": [],
   "source": [
    "# trial 1\n",
    "\n",
    "# print('Welcome to the Dictionary App')\n",
    "# print('Please select your choice')\n",
    "# print('Press 1 To Add a word')\n",
    "# print('Press 2 To Find the meaning')\n",
    "# print('Press 3 To Update the word')\n",
    "# print('Press 4 To Exit')\n",
    "\n",
    "# dict = {} \n",
    "\n",
    "# i=4\n",
    "# while i>0:\n",
    "#     choice = input(\"Enter your choice : \")\n",
    "#     if choice == '1' :\n",
    "#         for i in range(1,5):\n",
    "#             word = input(\"Enter a word : \")\n",
    "#             meaning = input(\"Enter its meaning : \")\n",
    "#             dict[word] = meaning    \n",
    "#         print(dict)\n",
    "        \n",
    "    \n",
    "#     elif choice == '2' :\n",
    "#         find = input(\"Enter the word to find : \")\n",
    "#         print(dict[find])\n",
    "        \n",
    "\n",
    "#     elif choice == '3':\n",
    "#         upd = input(\"Enter a word you want to update : \")\n",
    "#         upd_meaning = input(\"Enter the new meaning : \")\n",
    "#         dict.update({upd:upd_meaning})\n",
    "#         print(dict)\n",
    "        \n",
    "#     elif choice == '4':\n",
    "#         print(\"You are exit now\")\n",
    "#         break\n",
    "        \n",
    "#     else:\n",
    "#         print(\"Invalid input !! Please enter the number between 1-4 \")"
   ]
  },
  {
   "cell_type": "code",
   "execution_count": null,
   "id": "757bcebf",
   "metadata": {},
   "outputs": [],
   "source": []
  },
  {
   "cell_type": "code",
   "execution_count": null,
   "id": "dcabdaa2",
   "metadata": {},
   "outputs": [],
   "source": []
  },
  {
   "cell_type": "code",
   "execution_count": null,
   "id": "ebfd72e2",
   "metadata": {},
   "outputs": [],
   "source": []
  },
  {
   "cell_type": "code",
   "execution_count": null,
   "id": "3914ff36",
   "metadata": {},
   "outputs": [],
   "source": []
  }
 ],
 "metadata": {
  "kernelspec": {
   "display_name": "Python 3 (ipykernel)",
   "language": "python",
   "name": "python3"
  },
  "language_info": {
   "codemirror_mode": {
    "name": "ipython",
    "version": 3
   },
   "file_extension": ".py",
   "mimetype": "text/x-python",
   "name": "python",
   "nbconvert_exporter": "python",
   "pygments_lexer": "ipython3",
   "version": "3.10.9"
  }
 },
 "nbformat": 4,
 "nbformat_minor": 5
}
